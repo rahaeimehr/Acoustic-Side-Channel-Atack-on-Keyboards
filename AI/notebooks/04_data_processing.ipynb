{
 "cells": [
  {
   "cell_type": "markdown",
   "metadata": {},
   "source": [
    "# processing data\n",
    "\n",
    "we are going to prepare and procees data for modeling \n",
    "\n",
    "- read tensors\n",
    "- do normalization\n",
    "- resampeling\n",
    "- split data\n"
   ]
  },
  {
   "cell_type": "code",
   "execution_count": 36,
   "metadata": {},
   "outputs": [],
   "source": [
    "import os\n",
    "import pandas as pd\n",
    "import librosa\n",
    "import numpy as np\n",
    "import pickle\n",
    "\n",
    "import torch\n",
    "from torch.utils.data import DataLoader, TensorDataset"
   ]
  },
  {
   "cell_type": "markdown",
   "metadata": {},
   "source": [
    "## read data "
   ]
  },
  {
   "cell_type": "code",
   "execution_count": 7,
   "metadata": {},
   "outputs": [],
   "source": [
    "# read data from npy files\n",
    "data_path = '../data/model_data'\n",
    "\n",
    "X = np.load(os.path.join(data_path, 'X_train.npy'))\n",
    "y = np.load(os.path.join(data_path, 'y_train.npy'))\n",
    "\n"
   ]
  },
  {
   "cell_type": "markdown",
   "metadata": {},
   "source": [
    "## unblance treatment"
   ]
  },
  {
   "cell_type": "markdown",
   "metadata": {},
   "source": [
    "### 1) resmapeling minority"
   ]
  },
  {
   "cell_type": "code",
   "execution_count": 22,
   "metadata": {},
   "outputs": [],
   "source": [
    "\n",
    "# Separate samples by class\n",
    "minority_class_indices = np.where(y == 1)[0]\n",
    "majority_class_indices = np.where(y == 0)[0]\n",
    "\n",
    "# Calculate the imbalance ratio\n",
    "num_minority = len(minority_class_indices)\n",
    "num_majority = len(majority_class_indices)\n",
    "\n",
    "# Number of times we need to repeat the minority samples to match the majority class size\n",
    "duplication_factor = num_majority // num_minority\n",
    "remaining_samples = num_majority % num_minority  # Handle any remaining samples\n",
    "\n",
    "# Oversample the minority class by duplicating the indices\n",
    "oversampled_minority_indices = np.hstack([\n",
    "    np.tile(minority_class_indices, duplication_factor),  # Repeat full sets\n",
    "    np.random.choice(minority_class_indices, remaining_samples, replace=False)  # Add a few extras\n",
    "])\n",
    "\n",
    "# Combine with the majority indices to create a balanced dataset\n",
    "balanced_indices = np.hstack([majority_class_indices, oversampled_minority_indices])\n",
    "\n",
    "# Shuffle the combined indices to mix classes\n",
    "np.random.shuffle(balanced_indices)\n",
    "\n",
    "# Use the balanced indices to create balanced X and y\n",
    "X_balanced = X[balanced_indices]\n",
    "y_balanced = y[balanced_indices]"
   ]
  },
  {
   "cell_type": "code",
   "execution_count": 29,
   "metadata": {},
   "outputs": [
    {
     "data": {
      "text/plain": [
       "(5322,)"
      ]
     },
     "execution_count": 29,
     "metadata": {},
     "output_type": "execute_result"
    }
   ],
   "source": [
    "y_balanced.shape"
   ]
  },
  {
   "cell_type": "markdown",
   "metadata": {},
   "source": [
    "## split, Normalization, and make tensors\n"
   ]
  },
  {
   "cell_type": "code",
   "execution_count": 30,
   "metadata": {},
   "outputs": [],
   "source": [
    "from sklearn.model_selection import train_test_split\n",
    "\n",
    "# Train-test split (80-20 split as an example)\n",
    "X_train, X_test, y_train, y_test = train_test_split(X_balanced, y_balanced, test_size=0.2, random_state=42)\n",
    "\n",
    "# Now, X_train, X_test, y_train, y_test are your split datasets.\n"
   ]
  },
  {
   "cell_type": "code",
   "execution_count": 31,
   "metadata": {},
   "outputs": [],
   "source": [
    "# Normalize features (zero mean, unit variance)\n",
    "mean = np.mean(X_train, axis=0)\n",
    "std = np.std(X_train, axis=0)\n",
    "\n",
    "# Normalize the training and test data\n",
    "X_train_normalized = (X_train - mean) / std\n",
    "X_test_normalized = (X_test - mean) / std\n"
   ]
  },
  {
   "cell_type": "code",
   "execution_count": 33,
   "metadata": {},
   "outputs": [],
   "source": [
    "# Convert the balanced data to PyTorch tensors\n",
    "X_train_tensor = torch.tensor(X_train_normalized, dtype=torch.float32)\n",
    "X_test_tensor = torch.tensor(X_test_normalized, dtype=torch.float32)\n",
    "y_train_tensor = torch.tensor(y_train, dtype=torch.float32).unsqueeze(1)\n",
    "y_test_tensor = torch.tensor(y_test, dtype=torch.float32).unsqueeze(1)"
   ]
  },
  {
   "cell_type": "markdown",
   "metadata": {},
   "source": [
    "## Dataset and data loader"
   ]
  },
  {
   "cell_type": "code",
   "execution_count": 37,
   "metadata": {},
   "outputs": [],
   "source": [
    "train_dataset_balanced = TensorDataset(X_train_tensor, y_train_tensor)\n",
    "test_dataset = TensorDataset(X_test_tensor, y_test_tensor)\n",
    "\n",
    "train_loader = DataLoader(train_dataset_balanced, batch_size=32, shuffle=True)\n",
    "test_loader = DataLoader(test_dataset, batch_size=32, shuffle=False)"
   ]
  },
  {
   "cell_type": "markdown",
   "metadata": {},
   "source": [
    "### save data as tensors"
   ]
  },
  {
   "cell_type": "code",
   "execution_count": 39,
   "metadata": {},
   "outputs": [],
   "source": [
    "\n",
    "output_path = '../data/tensors/'\n",
    "torch.save((X_train_tensor, y_train_tensor), output_path + 'train_data.pt')\n",
    "torch.save((X_test_tensor, y_test_tensor), output_path + 'test_data.pt')\n",
    "\n",
    "# Optionally, save the normalization parameters (mean and std)\n",
    "torch.save((mean, std), output_path + 'normalization_params.pt')"
   ]
  }
 ],
 "metadata": {
  "kernelspec": {
   "display_name": ".venv",
   "language": "python",
   "name": "python3"
  },
  "language_info": {
   "codemirror_mode": {
    "name": "ipython",
    "version": 3
   },
   "file_extension": ".py",
   "mimetype": "text/x-python",
   "name": "python",
   "nbconvert_exporter": "python",
   "pygments_lexer": "ipython3",
   "version": "3.11.4"
  }
 },
 "nbformat": 4,
 "nbformat_minor": 2
}
