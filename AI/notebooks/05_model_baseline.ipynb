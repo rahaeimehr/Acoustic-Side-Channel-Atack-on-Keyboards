{
 "cells": [
  {
   "cell_type": "markdown",
   "metadata": {},
   "source": [
    "# AI model\n"
   ]
  },
  {
   "cell_type": "code",
   "execution_count": 2,
   "metadata": {},
   "outputs": [],
   "source": [
    "import torch "
   ]
  },
  {
   "cell_type": "markdown",
   "metadata": {},
   "source": [
    "## read tensors"
   ]
  },
  {
   "cell_type": "code",
   "execution_count": 5,
   "metadata": {},
   "outputs": [
    {
     "name": "stdout",
     "output_type": "stream",
     "text": [
      "Loaded training data: X_train shape: torch.Size([4257, 64]), y_train shape: torch.Size([4257, 1])\n",
      "Loaded test data: X_test shape: torch.Size([1065, 64]), y_test shape: torch.Size([1065, 1])\n"
     ]
    },
    {
     "name": "stderr",
     "output_type": "stream",
     "text": [
      "C:\\Users\\reza\\AppData\\Local\\Temp\\ipykernel_37232\\560550039.py:4: FutureWarning: You are using `torch.load` with `weights_only=False` (the current default value), which uses the default pickle module implicitly. It is possible to construct malicious pickle data which will execute arbitrary code during unpickling (See https://github.com/pytorch/pytorch/blob/main/SECURITY.md#untrusted-models for more details). In a future release, the default value for `weights_only` will be flipped to `True`. This limits the functions that could be executed during unpickling. Arbitrary objects will no longer be allowed to be loaded via this mode unless they are explicitly allowlisted by the user via `torch.serialization.add_safe_globals`. We recommend you start setting `weights_only=True` for any use case where you don't have full control of the loaded file. Please open an issue on GitHub for any issues related to this experimental feature.\n",
      "  X_train_tensor, y_train_tensor = torch.load(data_path + 'train_data.pt')\n",
      "C:\\Users\\reza\\AppData\\Local\\Temp\\ipykernel_37232\\560550039.py:5: FutureWarning: You are using `torch.load` with `weights_only=False` (the current default value), which uses the default pickle module implicitly. It is possible to construct malicious pickle data which will execute arbitrary code during unpickling (See https://github.com/pytorch/pytorch/blob/main/SECURITY.md#untrusted-models for more details). In a future release, the default value for `weights_only` will be flipped to `True`. This limits the functions that could be executed during unpickling. Arbitrary objects will no longer be allowed to be loaded via this mode unless they are explicitly allowlisted by the user via `torch.serialization.add_safe_globals`. We recommend you start setting `weights_only=True` for any use case where you don't have full control of the loaded file. Please open an issue on GitHub for any issues related to this experimental feature.\n",
      "  X_test_tensor, y_test_tensor = torch.load(data_path + 'test_data.pt')\n",
      "C:\\Users\\reza\\AppData\\Local\\Temp\\ipykernel_37232\\560550039.py:8: FutureWarning: You are using `torch.load` with `weights_only=False` (the current default value), which uses the default pickle module implicitly. It is possible to construct malicious pickle data which will execute arbitrary code during unpickling (See https://github.com/pytorch/pytorch/blob/main/SECURITY.md#untrusted-models for more details). In a future release, the default value for `weights_only` will be flipped to `True`. This limits the functions that could be executed during unpickling. Arbitrary objects will no longer be allowed to be loaded via this mode unless they are explicitly allowlisted by the user via `torch.serialization.add_safe_globals`. We recommend you start setting `weights_only=True` for any use case where you don't have full control of the loaded file. Please open an issue on GitHub for any issues related to this experimental feature.\n",
      "  mean, std = torch.load(data_path + 'normalization_params.pt')\n"
     ]
    }
   ],
   "source": [
    "data_path = '../data/tensors/'\n",
    "\n",
    "# Load the preprocessed and saved data\n",
    "X_train_tensor, y_train_tensor = torch.load(data_path + 'train_data.pt')\n",
    "X_test_tensor, y_test_tensor = torch.load(data_path + 'test_data.pt')\n",
    "\n",
    "# Load normalization parameters (mean, std)\n",
    "mean, std = torch.load(data_path + 'normalization_params.pt')\n",
    "\n",
    "# You can also check the loaded data if you want\n",
    "print(f\"Loaded training data: X_train shape: {X_train_tensor.shape}, y_train shape: {y_train_tensor.shape}\")\n",
    "print(f\"Loaded test data: X_test shape: {X_test_tensor.shape}, y_test shape: {y_test_tensor.shape}\")\n"
   ]
  },
  {
   "cell_type": "markdown",
   "metadata": {},
   "source": [
    "## base model"
   ]
  },
  {
   "cell_type": "code",
   "execution_count": 9,
   "metadata": {},
   "outputs": [],
   "source": [
    "import torch.nn as nn\n",
    "import torch.optim as optim\n",
    "from torch.utils.data import DataLoader, TensorDataset\n",
    "\n",
    "class MLPmodelSigmoidhead(nn.Module):\n",
    "    def __init__(self, input_size):\n",
    "        super(MLPmodelSigmoidhead, self).__init__()\n",
    "        self.fc1 = nn.Linear(input_size, 128)\n",
    "        self.fc2 = nn.Linear(128, 64)\n",
    "        self.fc3 = nn.Linear(64, 32)\n",
    "        self.output = nn.Linear(32, 1)\n",
    "        \n",
    "    def forward(self, x):\n",
    "        x = torch.relu(self.fc1(x))\n",
    "        x = torch.relu(self.fc2(x))\n",
    "        x = torch.relu(self.fc3(x))\n",
    "        x = torch.sigmoid(self.output(x))  # Output probability between 0 and 1\n",
    "        return x\n"
   ]
  },
  {
   "cell_type": "markdown",
   "metadata": {},
   "source": [
    "## train loop"
   ]
  },
  {
   "cell_type": "code",
   "execution_count": 17,
   "metadata": {},
   "outputs": [
    {
     "name": "stdout",
     "output_type": "stream",
     "text": [
      "Epoch [1/50], Loss: 0.6190\n",
      "Epoch [2/50], Loss: 0.5824\n",
      "Epoch [3/50], Loss: 0.5632\n",
      "Epoch [4/50], Loss: 0.5504\n",
      "Epoch [5/50], Loss: 0.5461\n",
      "Epoch [6/50], Loss: 0.5424\n",
      "Epoch [7/50], Loss: 0.5458\n",
      "Epoch [8/50], Loss: 0.5438\n",
      "Epoch [9/50], Loss: 0.5430\n",
      "Epoch [10/50], Loss: 0.5407\n",
      "Epoch [11/50], Loss: 0.5409\n",
      "Epoch [12/50], Loss: 0.5444\n",
      "Epoch [13/50], Loss: 0.5395\n",
      "Epoch [14/50], Loss: 0.5400\n",
      "Epoch [15/50], Loss: 0.5393\n",
      "Epoch [16/50], Loss: 0.5439\n",
      "Epoch [17/50], Loss: 0.5392\n",
      "Epoch [18/50], Loss: 0.5438\n",
      "Epoch [19/50], Loss: 0.5397\n",
      "Epoch [20/50], Loss: 0.5392\n",
      "Epoch [21/50], Loss: 0.5377\n",
      "Epoch [22/50], Loss: 0.5376\n",
      "Epoch [23/50], Loss: 0.5393\n",
      "Epoch [24/50], Loss: 0.5443\n",
      "Epoch [25/50], Loss: 0.5446\n",
      "Epoch [26/50], Loss: 0.5431\n",
      "Epoch [27/50], Loss: 0.5463\n",
      "Epoch [28/50], Loss: 0.5413\n",
      "Epoch [29/50], Loss: 0.5500\n",
      "Epoch [30/50], Loss: 0.5460\n",
      "Epoch [31/50], Loss: 0.5454\n",
      "Epoch [32/50], Loss: 0.5439\n",
      "Epoch [33/50], Loss: 0.5445\n",
      "Epoch [34/50], Loss: 0.5437\n",
      "Epoch [35/50], Loss: 0.5445\n",
      "Epoch [36/50], Loss: 0.5475\n",
      "Epoch [37/50], Loss: 0.5403\n",
      "Epoch [38/50], Loss: 0.5358\n",
      "Epoch [39/50], Loss: 0.5351\n",
      "Epoch [40/50], Loss: 0.5362\n",
      "Epoch [41/50], Loss: 0.5333\n",
      "Epoch [42/50], Loss: 0.5354\n",
      "Epoch [43/50], Loss: 0.5347\n",
      "Epoch [44/50], Loss: 0.5373\n",
      "Epoch [45/50], Loss: 0.5347\n",
      "Epoch [46/50], Loss: 0.5318\n",
      "Epoch [47/50], Loss: 0.5353\n",
      "Epoch [48/50], Loss: 0.5373\n",
      "Epoch [49/50], Loss: 0.5367\n",
      "Epoch [50/50], Loss: 0.5369\n",
      "Model saved successfully.\n"
     ]
    }
   ],
   "source": [
    "# Initialize the model, loss function, and optimizer\n",
    "input_size = X_train_tensor.shape[1]\n",
    "model = MLPmodelSigmoidhead(input_size=input_size)\n",
    "criterion = nn.BCEWithLogitsLoss()\n",
    "optimizer = optim.Adam(model.parameters(), lr=0.001)\n",
    "\n",
    "# Create DataLoader for training and testing\n",
    "train_dataset = TensorDataset(X_train_tensor, y_train_tensor)\n",
    "test_dataset = TensorDataset(X_test_tensor, y_test_tensor)\n",
    "\n",
    "train_loader = DataLoader(train_dataset, batch_size=32, shuffle=True)\n",
    "test_loader = DataLoader(test_dataset, batch_size=32, shuffle=False)\n",
    "\n",
    "device = torch.device('cuda' if torch.cuda.is_available() else 'cpu')\n",
    "\n",
    "model.to(device)\n",
    "criterion.to(device)\n",
    "\n",
    "# Training loop\n",
    "num_epochs = 50\n",
    "for epoch in range(num_epochs):\n",
    "    model.train()  # Set model to training mode\n",
    "    running_loss = 0.0\n",
    "    \n",
    "    for X_batch, y_batch in train_loader:\n",
    "        optimizer.zero_grad()  # Zero gradients\n",
    "\n",
    "        X_batch, y_batch = X_batch.to(device), y_batch.to(device)\n",
    "        \n",
    "        # Forward pass\n",
    "        outputs = model(X_batch)\n",
    "        loss = criterion(outputs, y_batch)\n",
    "        \n",
    "        # Backward pass and optimization\n",
    "        loss.backward()\n",
    "        optimizer.step()\n",
    "        \n",
    "        running_loss += loss.item() * X_batch.size(0)\n",
    "    \n",
    "    # Average loss for the epoch\n",
    "    epoch_loss = running_loss / len(train_loader.dataset)\n",
    "    print(f\"Epoch [{epoch+1}/{num_epochs}], Loss: {epoch_loss:.4f}\")\n",
    "\n",
    "model_output ='../models/'\n",
    "# Save the model after training if needed\n",
    "# Save the model and other useful info\n",
    "torch.save({\n",
    "    'model_state_dict': model.state_dict(),\n",
    "    'input_size': input_size,\n",
    "    'mean': mean,  # Optional: save normalization parameters\n",
    "    'std': std,\n",
    "}, model_output + 'model_checkpoint.pth')\n",
    "print(\"Model saved successfully.\")\n"
   ]
  }
 ],
 "metadata": {
  "kernelspec": {
   "display_name": ".venv",
   "language": "python",
   "name": "python3"
  },
  "language_info": {
   "codemirror_mode": {
    "name": "ipython",
    "version": 3
   },
   "file_extension": ".py",
   "mimetype": "text/x-python",
   "name": "python",
   "nbconvert_exporter": "python",
   "pygments_lexer": "ipython3",
   "version": "3.11.4"
  }
 },
 "nbformat": 4,
 "nbformat_minor": 2
}
